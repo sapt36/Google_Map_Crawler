{
  "nbformat": 4,
  "nbformat_minor": 0,
  "metadata": {
    "colab": {
      "provenance": [],
      "authorship_tag": "ABX9TyPFJ4ADO4kFCAQG5/ub2Tw5",
      "include_colab_link": true
    },
    "kernelspec": {
      "name": "python3",
      "display_name": "Python 3"
    },
    "language_info": {
      "name": "python"
    }
  },
  "cells": [
    {
      "cell_type": "markdown",
      "metadata": {
        "id": "view-in-github",
        "colab_type": "text"
      },
      "source": [
        "<a href=\"https://colab.research.google.com/github/sapt36/Google_Map_Crawler/blob/main/GoogleMapCrawler.ipynb\" target=\"_parent\"><img src=\"https://colab.research.google.com/assets/colab-badge.svg\" alt=\"Open In Colab\"/></a>"
      ]
    },
    {
      "cell_type": "code",
      "source": [
        "# 安裝必要的套件\n",
        "!pip install -U googlemaps"
      ],
      "metadata": {
        "colab": {
          "base_uri": "https://localhost:8080/"
        },
        "id": "W5lVzoz0JuSA",
        "outputId": "2cfbd969-2283-4fef-a27a-3f3f250b3c73"
      },
      "execution_count": null,
      "outputs": [
        {
          "output_type": "stream",
          "name": "stdout",
          "text": [
            "Collecting googlemaps\n",
            "  Downloading googlemaps-4.10.0.tar.gz (33 kB)\n",
            "  Preparing metadata (setup.py) ... \u001b[?25l\u001b[?25hdone\n",
            "Requirement already satisfied: requests<3.0,>=2.20.0 in /usr/local/lib/python3.10/dist-packages (from googlemaps) (2.32.3)\n",
            "Requirement already satisfied: charset-normalizer<4,>=2 in /usr/local/lib/python3.10/dist-packages (from requests<3.0,>=2.20.0->googlemaps) (3.4.0)\n",
            "Requirement already satisfied: idna<4,>=2.5 in /usr/local/lib/python3.10/dist-packages (from requests<3.0,>=2.20.0->googlemaps) (3.10)\n",
            "Requirement already satisfied: urllib3<3,>=1.21.1 in /usr/local/lib/python3.10/dist-packages (from requests<3.0,>=2.20.0->googlemaps) (2.2.3)\n",
            "Requirement already satisfied: certifi>=2017.4.17 in /usr/local/lib/python3.10/dist-packages (from requests<3.0,>=2.20.0->googlemaps) (2024.8.30)\n",
            "Building wheels for collected packages: googlemaps\n",
            "  Building wheel for googlemaps (setup.py) ... \u001b[?25l\u001b[?25hdone\n",
            "  Created wheel for googlemaps: filename=googlemaps-4.10.0-py3-none-any.whl size=40715 sha256=ee78adec5d2ee25093c41dda2f8db29254b7eeb77dbffbeadd8e15d882fb800e\n",
            "  Stored in directory: /root/.cache/pip/wheels/17/f8/79/999d5d37118fd35d7219ef57933eb9d09886c4c4503a800f84\n",
            "Successfully built googlemaps\n",
            "Installing collected packages: googlemaps\n",
            "Successfully installed googlemaps-4.10.0\n"
          ]
        }
      ]
    },
    {
      "cell_type": "code",
      "source": [
        "import pandas as pd\n",
        "import json\n",
        "import googlemaps\n",
        "from geopy.distance import geodesic\n",
        "import time\n",
        "\n",
        "# 初始化 Google Maps API 客戶端\n",
        "api_key = \"\"  # 您的 Google Maps API 金鑰\n",
        "gmaps = googlemaps.Client(key=api_key)\n",
        "\n",
        "# 定義函數來獲取附近的景點資訊（支援多頁，因為google api 上限20，需要多頁才能突破上限到如下的 max_results=100）\n",
        "def get_nearby_spots(api_key, location, radius, keyword, max_results=100):  # max_results 參數，代表最多出現的結果數(可增加)\n",
        "    spots = []\n",
        "    gmaps = googlemaps.Client(key=api_key)\n",
        "    next_page_token = None\n",
        "\n",
        "    # 繼續請求直到獲得所需數量的景點\n",
        "    while len(spots) < max_results:\n",
        "        # 使用 places_nearby API 查找附近的景點，檢查是否需要使用 page_token\n",
        "        try:\n",
        "            if next_page_token:\n",
        "                # sleep 等待 token 有效，避免 INVALID_REQUEST\n",
        "                time.sleep(2)\n",
        "                spots_result = gmaps.places_nearby(\n",
        "                    location=location,\n",
        "                    radius=radius,\n",
        "                    keyword=keyword,\n",
        "                    page_token=next_page_token\n",
        "                )\n",
        "            else:\n",
        "                spots_result = gmaps.places_nearby(\n",
        "                    location=location,\n",
        "                    radius=radius,\n",
        "                    keyword=keyword\n",
        "                )\n",
        "\n",
        "            # 遍歷每個景點並獲取基本資訊\n",
        "            for spot in spots_result['results']:\n",
        "                place_id = spot['place_id']\n",
        "                name = spot['name']\n",
        "                address = spot['vicinity']\n",
        "                rating = spot.get('rating', 'N/A')\n",
        "                lat = spot['geometry']['location']['lat']\n",
        "                lng = spot['geometry']['location']['lng']\n",
        "                distance = geodesic((float(location.split(\",\")[0]), float(location.split(\",\")[1])), (lat, lng)).meters\n",
        "\n",
        "                # 使用 place API 查詢詳細資訊\n",
        "                details = gmaps.place(place_id=place_id, fields=[\"review\", \"formatted_phone_number\", \"website\"])\n",
        "                reviews = []\n",
        "\n",
        "                # 提取熱門評論\n",
        "                if \"reviews\" in details[\"result\"]:\n",
        "                    for review in details[\"result\"][\"reviews\"]:\n",
        "                        reviews.append({\n",
        "                            \"author_name\": review[\"author_name\"],\n",
        "                            \"rating\": review[\"rating\"],\n",
        "                            \"text\": review[\"text\"],\n",
        "                            \"time\": review[\"relative_time_description\"]\n",
        "                        })\n",
        "\n",
        "                # 提取電話和網址\n",
        "                phone_number = details[\"result\"].get(\"formatted_phone_number\", \"N/A\")\n",
        "                website = details[\"result\"].get(\"website\", \"N/A\")\n",
        "\n",
        "                # 將景點資訊和評論加入列表\n",
        "                spots.append({\n",
        "                    \"名稱\": name,\n",
        "                    \"地址\": address,\n",
        "                    \"評分\": rating,\n",
        "                    \"電話\": phone_number,\n",
        "                    \"網址\": website,\n",
        "                    \"距離\": distance,\n",
        "                    \"熱門評論\": reviews\n",
        "                })\n",
        "\n",
        "                # 停止迴圈當取得到足夠數量的景點\n",
        "                if len(spots) >= max_results:\n",
        "                    break\n",
        "\n",
        "            # 設定下一頁 token（若有）\n",
        "            next_page_token = spots_result.get(\"next_page_token\", None)\n",
        "\n",
        "            if not next_page_token:\n",
        "                break  # 沒有更多結果則停止\n",
        "\n",
        "        except googlemaps.exceptions.ApiError as e:\n",
        "            print(f\"API Error: {e}\")\n",
        "            break\n",
        "        except googlemaps.exceptions.Timeout:\n",
        "            print(\"Request Timeout. Retrying...\")\n",
        "            time.sleep(2)\n",
        "            continue\n",
        "        except googlemaps.exceptions.TransportError as e:\n",
        "            print(f\"Transport Error: {e}\")\n",
        "            break\n",
        "        except Exception as e:\n",
        "            print(f\"An unexpected error occurred: {e}\")\n",
        "            break\n",
        "\n",
        "    # 根據距離排序並編號\n",
        "    spots.sort(key=lambda x: x[\"距離\"])\n",
        "    for idx, spot in enumerate(spots, start=1):\n",
        "        spot[\"編號\"] = idx\n",
        "\n",
        "    return spots\n",
        "\n",
        "# 設定位置座標、範圍和關鍵字\n",
        "location = \"25.03640955354205, 121.52005195201416\" # 座標位於：國立中正紀念堂\n",
        "radius = 50000  # 擴大範圍可獲取更多景點 50000 = 50KM\n",
        "keyword = \"spot\"  # 可以根據需求更改關鍵字\n",
        "\n",
        "# 獲取附近景點資訊，包含熱門評論、電話和網址\n",
        "spots_data = get_nearby_spots(api_key, location, radius, keyword)\n",
        "\n",
        "# 將結果轉為 JSON 格式並儲存檔案\n",
        "with open(\"sorted_spots_data_with_reviews_contact.json\", \"w\", encoding=\"utf-8\") as f:\n",
        "    json.dump(spots_data, f, ensure_ascii=False, indent=4)\n",
        "\n",
        "print(\"已輸出 sorted_spots_data_with_reviews_contact.json 檔案\")\n"
      ],
      "metadata": {
        "colab": {
          "base_uri": "https://localhost:8080/"
        },
        "id": "Z8uPofc3JKwq",
        "outputId": "82e3736e-2a2b-4f78-b2cd-c1ae9b5b1991"
      },
      "execution_count": null,
      "outputs": [
        {
          "output_type": "stream",
          "name": "stdout",
          "text": [
            "已輸出 sorted_spots_data_with_reviews_contact.json 檔案\n"
          ]
        }
      ]
    }
  ]
}